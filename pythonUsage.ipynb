{
 "cells": [
  {
   "cell_type": "code",
   "execution_count": 52,
   "id": "d37ca2d0-df46-44e4-9b39-1a665c9a7da5",
   "metadata": {},
   "outputs": [
    {
     "name": "stdout",
     "output_type": "stream",
     "text": [
      "Optimization terminated successfully.\n",
      "         Current function value: 0.397900\n",
      "         Iterations: 55\n",
      "         Function evaluations: 146\n"
     ]
    },
    {
     "data": {
      "text/plain": [
       " final_simplex: (array([[3.14156131, 2.26972183],\n",
       "       [3.14156131, 2.26972184],\n",
       "       [3.14156132, 2.26972184]]), array([0.3979, 0.3979, 0.3979]))\n",
       "           fun: 0.3979\n",
       "       message: 'Optimization terminated successfully.'\n",
       "          nfev: 146\n",
       "           nit: 55\n",
       "        status: 0\n",
       "       success: True\n",
       "             x: array([3.14156131, 2.26972183])"
      ]
     },
     "execution_count": 52,
     "metadata": {},
     "output_type": "execute_result"
    }
   ],
   "source": [
    "# Example Python workbook which uses the executable compiled in cpp_code\n",
    "# sampleFunction takes as input a vector containing a point to be queried\n",
    "# It checks all possible errors from the executable, and if all\n",
    "# is looking good it returns the output of the function.\n",
    "# As an example, this is used as a function to be optimised by \n",
    "# the minimize function\n",
    "import subprocess\n",
    "import sys\n",
    "import numpy as np\n",
    "from scipy.optimize import minimize\n",
    "\n",
    "# For all available function names, consult the folder availableFunctions,\n",
    "# or look at the repo here https://github.com/nandresthio/bifiEBBbenchmarks\n",
    "functionName = \"ToalBranin0.50\"\n",
    "# Change this to 1 for high-fidelity output, and to 0 for low-fidelity output\n",
    "fidelity = 1\n",
    "\n",
    "\n",
    "\n",
    "def sampleFunction(point):\n",
    "    pointString = \"[\"\n",
    "    for i in range(len(point) - 1):\n",
    "        pointString = pointString + str(point[i]) + \",\"\n",
    "    pointString = pointString + str(point[-1]) + \"]\"\n",
    "    output = subprocess.check_output([\"cpp_code\\main\", functionName, str(fidelity), pointString])\n",
    "    if output[:38] == b\"Problem: Could not match function name\":\n",
    "        print(\"Incorrect function name!\")\n",
    "        sys.exit(0)\n",
    "    if output[:30] == b\"Provided point has a dimension\":\n",
    "        print(\"Incorrect point dimension!\")\n",
    "        print(output)\n",
    "        sys.exit(0)\n",
    "    if output[:25] == b\"Unkown fidelity specified\":\n",
    "        print(output)\n",
    "        sys.exit(0)\n",
    "    if output[:32] == b\"Provided point is out of bounds!\":\n",
    "        print(output)\n",
    "        print(\"Returning inf\")\n",
    "        return float('inf')\n",
    "    # If here it all worked\n",
    "    return float(output)\n",
    "\n",
    "minimize(sampleFunction, np.array([1, 1]), method='nelder-mead',\n",
    "               options={'xatol': 1e-8, 'disp': True})  \n"
   ]
  },
  {
   "cell_type": "code",
   "execution_count": null,
   "id": "e9eb26fe-84b3-4ca0-b185-ad6cf5fd24ce",
   "metadata": {},
   "outputs": [],
   "source": []
  },
  {
   "cell_type": "code",
   "execution_count": null,
   "id": "ef0803d5-4ee4-431b-b4bf-2c80e4e8a32f",
   "metadata": {},
   "outputs": [],
   "source": []
  }
 ],
 "metadata": {
  "kernelspec": {
   "display_name": "Python 3 (ipykernel)",
   "language": "python",
   "name": "python3"
  },
  "language_info": {
   "codemirror_mode": {
    "name": "ipython",
    "version": 3
   },
   "file_extension": ".py",
   "mimetype": "text/x-python",
   "name": "python",
   "nbconvert_exporter": "python",
   "pygments_lexer": "ipython3",
   "version": "3.9.0"
  }
 },
 "nbformat": 4,
 "nbformat_minor": 5
}
